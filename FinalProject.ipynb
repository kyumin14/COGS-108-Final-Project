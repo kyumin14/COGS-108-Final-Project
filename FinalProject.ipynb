{
 "cells": [
  {
   "cell_type": "markdown",
   "metadata": {},
   "source": [
    "# Final Project"
   ]
  },
  {
   "cell_type": "markdown",
   "metadata": {},
   "source": [
    "# Overview"
   ]
  },
  {
   "cell_type": "markdown",
   "metadata": {},
   "source": [
    "This project focuses on the possible relationships between the socioeconomic characteristics of a zip code in Wake County, North Carolina, and the likelihood of a health code violation coming from a restaurant in that zip code. Here, I focus on three different varaibles in relation to health code violations: the per capita income, the percentage of families experiencing poverty, and the percentage of colored people in certain zip codes. To do this, I was provided datasets from Professor Ellis, compiled it all together in one Pandas DataFrame, then analyzed per capita income vs. number of violations, percentage of families experiencing poverty vs. number of violations, and percentage of colored population vs. number of violations. After analyzing these factors, I can reliably determine if any of the three variables relate to the number of health code violations given to a restaurant. After running analyses, the three factors show statistical significance, but there are other variables influencing the number of health code violations that a restaurant recieves."
   ]
  },
  {
   "cell_type": "markdown",
   "metadata": {},
   "source": [
    "# Name & Github Username\n",
    "\n",
    "- Name: Sam Schwartz\n",
    "- Github Username: kyumi"
   ]
  },
  {
   "cell_type": "markdown",
   "metadata": {},
   "source": [
    "# Research Question"
   ]
  },
  {
   "cell_type": "markdown",
   "metadata": {},
   "source": [
    "Do the socioeconomic characteristics of a restaurant in Wake County, NC affect the likelihood of a healthcode violation?"
   ]
  },
  {
   "cell_type": "markdown",
   "metadata": {},
   "source": [
    "## Background and Prior Work"
   ]
  },
  {
   "cell_type": "markdown",
   "metadata": {},
   "source": [
    "In my proposal, I wanted to explore if health inspections at restaurants affect the likelihood of foodborne illnesses. Unfortunately, after trying to find public datasets on health inspections and related datasets on foodborne illnesses in the area, I decided to utilize the five datasets that Professor Ellis provided for me. After looking through the datasets, I decided on the question: \"Do the socioeconomic characteristics of a restaurant in North Carolina affect the likelihood of a healthcode violation?\" I decided to chose this topic because, initally, I thought that there would be a greater chance of a restaurant receiving a healthcode violation in poorer demographics due to their lack of financial resources. Since there was also a statistic on the number of non-white residents in the zip codes being looked at, I also was curious if race played any part because statistically, people of color are less well off in the United States than white people.\n",
    "\n",
    "In my prior work, I found two articles pertaining to similar reaserch on the matter I am exploring in this project. The first demostrates that food service facilities in higher poverty areas had a greater number of facilities with at least one critical health code violation and had more frequent inspections than facilities in lower poverty areas. This study also found that Hispanic facilities have more critical health code violations compared to other demographics.\n",
    "\n",
    "The second research article I found explored how frequent restaurant inspections are and if the restaurant neighborhood demographics are related to the outcome of the food safety inspection. The study found that chain restaurants had significantly fewer violations per inspection.\n",
    "\n",
    "Both of these articles are incredibly similar to my project, however the item that was not explored in the first article was if the neighborhood demographic had any dictation on the outcome of the health code violations. For the other article, it focused on chain vs. non-chain restaurants in Philadelphia, PA. I want to know if the socioeconomic characteristics of an area have any relation to the outcome of the healthcode violation of restaurants in general, rather than inspecting if that restaurant is a chain or not. However, chain vs. non-chain could be a confounding variable if I find a correlation.\n",
    "\n",
    "References:\n",
    "- 1)https://doi.org/10.4315/0362-028X.JFP-11-101\n",
    "- 2)https://doi.org/10.1177%2F0033354916687741"
   ]
  },
  {
   "cell_type": "markdown",
   "metadata": {},
   "source": [
    "# Hypothesis\n"
   ]
  },
  {
   "cell_type": "markdown",
   "metadata": {},
   "source": [
    "The socioeconomic characteristics of a restaurant in Wake County, NC does affect the likelihood of a healthcode violation. This is because the poorer the area, the more likely a restaurant is to have a healthcode violation due to lack of financial resources available to purchase up-to-date equipment, storage for hazardous materials, etc."
   ]
  },
  {
   "cell_type": "markdown",
   "metadata": {},
   "source": [
    "# Dataset(s)"
   ]
  },
  {
   "cell_type": "markdown",
   "metadata": {},
   "source": [
    "Dataset Name: <strong>violations.csv</strong>\n",
    "\n",
    "Link to the dataset: Could not find a specific link, but Professor Ellis provided this dataset.\n",
    "\n",
    "Number of observations: 189803\n",
    "\n",
    "This dataset describes all of the food inspection violations in the Wake County (North Carolina) since September 20th, 2012. This dataset has 17 fields:\n",
    "- HSISID: The state code identifying the restaurant\n",
    "- InspectDate: Date of inspection\n",
    "- Category: NC risk factor\n",
    "- StateCode: NC administrative code\n",
    "- Critical: If possible loss of control may result in an unacceptable health risk\n",
    "- QuestionNo: Inspection question number\n",
    "- ViolationCode: NC food code violation codes\n",
    "- Severity: General sanitation, facilities, structure, etc.\n",
    "- ShortDesc: A short description of the violation\n",
    "- InspectedBy: Name of inspector\n",
    "- Comments: Comments from the inspector\n",
    "- PointValue: Number of points assigned to this particular violation\n",
    "- ObservationType: Compliance status\n",
    "- ViolationType: If the type of violation was repeated, corrected during inspection, etc.\n",
    "- CDCRiskFactor: Risk factor established by the CDC & FDA\n",
    "- CDCDataItem: Item within risk factor\n",
    "\n",
    "\n",
    "Dataset Name: <strong>restaurants.csv</strong>\n",
    "\n",
    "Link to the dataset: Could not find a specific link, but Professor Ellis provided this dataset.\n",
    "\n",
    "Number of Observations: 3325\n",
    "\n",
    "This dataset contains all of the restaurants in Wake County, NC: the exact address, city, and location (latitude/longitude). This dataset contains 14 fields:\n",
    "- HSISID: The state code identifying the restaurant\n",
    "- Name: The name of the restaurant\n",
    "- Address1: Main address of the facility\n",
    "- Address2: Secondary address (PO box, etc.)\n",
    "- City: The city where the restaurant resides\n",
    "- State: The state where the restaurant resides\n",
    "- PostalCode: The postal code of the restaurant\n",
    "- PhoneNumber: The phone number of the restaurant\n",
    "- RestaurantOpenDate: The date the restaurant opened\n",
    "- FacilityType: The type of facility of the restaurant\n",
    "- X: The latitude of the restaurant\n",
    "- Y: The longitude of the restaurant\n",
    "- GeocodeStatus\n",
    "\n",
    "\n",
    "Dataset Name: <strong>zipcodes.csv</strong>\n",
    "\n",
    "Link to the dataset: Could not find a specific link, but Professor Ellis provided this dataset.\n",
    "\n",
    "Number of Observations: 39\n",
    "\n",
    "This dataset contains the income related to zip codes in Wake County, NC as well as information about the percentage of non-white residents. This dataset contains 8 fields:\n",
    "\n",
    "- zip: The zipcode\n",
    "- median_family_income_dollars: The median family income in dollars\n",
    "- medain_household_income_dollars: The median household income in dollars\n",
    "- per_capita_income_dollars: The per capita income in dollars\n",
    "- percent_damilies_below_poverty_line: The percentage of families below the poverty line\n",
    "- percent_snap_benefits: The percentage of families who use SNAP (food stamp program)\n",
    "- percent_supplimental_security_income: The percentage of those who have supplemental security income\n",
    "- percent_nonwhite: The percentage of non-white residents.\n",
    "\n",
    "<strong>How do I plan on merging these datasets?</strong>\n",
    "\n",
    "To merge these datasets, I plan to first combine the violations and the restaurants datasets to determine which restaurants received violations via similar column <code>hsisid</code>. From this dataframe, I plan to count the number of violations per zipcode, then merge that information with the zipcode data via similar column <code>zip</code>."
   ]
  },
  {
   "cell_type": "markdown",
   "metadata": {},
   "source": [
    "# Setup"
   ]
  },
  {
   "cell_type": "code",
   "execution_count": 1,
   "metadata": {},
   "outputs": [],
   "source": [
    "import pandas as pd\n",
    "\n",
    "import numpy as np\n",
    "import matplotlib.pyplot as plt\n",
    "\n",
    "import seaborn as sns\n",
    "\n",
    "import patsy\n",
    "import statsmodels.api as sm\n",
    "import scipy.stats as stats\n",
    "from scipy.stats import ttest_ind, chisquare, normaltest"
   ]
  },
  {
   "cell_type": "code",
   "execution_count": 2,
   "metadata": {},
   "outputs": [],
   "source": [
    "path = 'data/'\n",
    "violations = path + 'violations.csv'\n",
    "restaurants = path + 'restaurants.csv'\n",
    "zipcodes = path + 'zipcodes.csv'"
   ]
  },
  {
   "cell_type": "code",
   "execution_count": 3,
   "metadata": {},
   "outputs": [],
   "source": [
    "df_v = pd.read_csv(violations)\n",
    "df_r = pd.read_csv(restaurants)\n",
    "df_z = pd.read_csv(zipcodes)"
   ]
  },
  {
   "cell_type": "code",
   "execution_count": 4,
   "metadata": {},
   "outputs": [
    {
     "data": {
      "text/html": [
       "<div>\n",
       "<style scoped>\n",
       "    .dataframe tbody tr th:only-of-type {\n",
       "        vertical-align: middle;\n",
       "    }\n",
       "\n",
       "    .dataframe tbody tr th {\n",
       "        vertical-align: top;\n",
       "    }\n",
       "\n",
       "    .dataframe thead th {\n",
       "        text-align: right;\n",
       "    }\n",
       "</style>\n",
       "<table border=\"1\" class=\"dataframe\">\n",
       "  <thead>\n",
       "    <tr style=\"text-align: right;\">\n",
       "      <th></th>\n",
       "      <th>X.objectid</th>\n",
       "      <th>hsisid</th>\n",
       "      <th>inspectdate</th>\n",
       "      <th>category</th>\n",
       "      <th>statecode</th>\n",
       "      <th>critical</th>\n",
       "      <th>questionno</th>\n",
       "      <th>violationcode</th>\n",
       "      <th>severity</th>\n",
       "      <th>shortdesc</th>\n",
       "      <th>inspectedby</th>\n",
       "      <th>comments</th>\n",
       "      <th>pointvalue</th>\n",
       "      <th>observationtype</th>\n",
       "      <th>violationtype</th>\n",
       "      <th>count</th>\n",
       "      <th>cdcriskfactor</th>\n",
       "      <th>cdcdataitem</th>\n",
       "    </tr>\n",
       "  </thead>\n",
       "  <tbody>\n",
       "    <tr>\n",
       "      <th>0</th>\n",
       "      <td>2149</td>\n",
       "      <td>4092015279</td>\n",
       "      <td>2014-09-22T00:00:00.000Z</td>\n",
       "      <td>Chemical</td>\n",
       "      <td>.2653,.2657</td>\n",
       "      <td>Yes</td>\n",
       "      <td>26</td>\n",
       "      <td>7-102.11</td>\n",
       "      <td>Priority Foundation</td>\n",
       "      <td>Toxic substances properly identified, stored, ...</td>\n",
       "      <td>Lucy Schrum</td>\n",
       "      <td>7-102.11; Priority Foundation - Found unlabele...</td>\n",
       "      <td>0</td>\n",
       "      <td>Out</td>\n",
       "      <td>R</td>\n",
       "      <td>NaN</td>\n",
       "      <td>NaN</td>\n",
       "      <td>NaN</td>\n",
       "    </tr>\n",
       "    <tr>\n",
       "      <th>1</th>\n",
       "      <td>2150</td>\n",
       "      <td>4092014572</td>\n",
       "      <td>2014-09-29T00:00:00.000Z</td>\n",
       "      <td>Chemical</td>\n",
       "      <td>.2653,.2657</td>\n",
       "      <td>Yes</td>\n",
       "      <td>26</td>\n",
       "      <td>7-102.11</td>\n",
       "      <td>Priority Foundation</td>\n",
       "      <td>Toxic substances properly identified, stored, ...</td>\n",
       "      <td>Daryl Beasley</td>\n",
       "      <td>7-102.11; Priority Foundation; One sanitizer b...</td>\n",
       "      <td>0</td>\n",
       "      <td>Out</td>\n",
       "      <td>CDI</td>\n",
       "      <td>NaN</td>\n",
       "      <td>NaN</td>\n",
       "      <td>NaN</td>\n",
       "    </tr>\n",
       "    <tr>\n",
       "      <th>2</th>\n",
       "      <td>2151</td>\n",
       "      <td>4092015906</td>\n",
       "      <td>2014-10-01T00:00:00.000Z</td>\n",
       "      <td>Chemical</td>\n",
       "      <td>.2653,.2657</td>\n",
       "      <td>Yes</td>\n",
       "      <td>26</td>\n",
       "      <td>7-102.11</td>\n",
       "      <td>Priority Foundation</td>\n",
       "      <td>Toxic substances properly identified, stored, ...</td>\n",
       "      <td>Lucy Schrum</td>\n",
       "      <td>7-102.11; Priority Foundation - Found an unlab...</td>\n",
       "      <td>1</td>\n",
       "      <td>Out</td>\n",
       "      <td>CDI</td>\n",
       "      <td>NaN</td>\n",
       "      <td>NaN</td>\n",
       "      <td>NaN</td>\n",
       "    </tr>\n",
       "    <tr>\n",
       "      <th>3</th>\n",
       "      <td>2152</td>\n",
       "      <td>4092013840</td>\n",
       "      <td>2014-10-08T00:00:00.000Z</td>\n",
       "      <td>Chemical</td>\n",
       "      <td>.2653,.2657</td>\n",
       "      <td>Yes</td>\n",
       "      <td>26</td>\n",
       "      <td>7-102.11</td>\n",
       "      <td>Priority Foundation</td>\n",
       "      <td>Toxic substances properly identified, stored, ...</td>\n",
       "      <td>Lucy Schrum</td>\n",
       "      <td>7-102.11; Priority Foundation - Found unlabele...</td>\n",
       "      <td>0</td>\n",
       "      <td>Out</td>\n",
       "      <td>CDI</td>\n",
       "      <td>NaN</td>\n",
       "      <td>NaN</td>\n",
       "      <td>NaN</td>\n",
       "    </tr>\n",
       "    <tr>\n",
       "      <th>4</th>\n",
       "      <td>2153</td>\n",
       "      <td>4092021788</td>\n",
       "      <td>2014-10-09T00:00:00.000Z</td>\n",
       "      <td>Chemical</td>\n",
       "      <td>.2653,.2657</td>\n",
       "      <td>Yes</td>\n",
       "      <td>26</td>\n",
       "      <td>7-102.11</td>\n",
       "      <td>Priority Foundation</td>\n",
       "      <td>Toxic substances properly identified, stored, ...</td>\n",
       "      <td>Lucy Schrum</td>\n",
       "      <td>7-102.11; Priority Foundation - Found one unla...</td>\n",
       "      <td>0</td>\n",
       "      <td>Out</td>\n",
       "      <td>CDI</td>\n",
       "      <td>NaN</td>\n",
       "      <td>NaN</td>\n",
       "      <td>NaN</td>\n",
       "    </tr>\n",
       "  </tbody>\n",
       "</table>\n",
       "</div>"
      ],
      "text/plain": [
       "   X.objectid      hsisid               inspectdate  category    statecode  \\\n",
       "0        2149  4092015279  2014-09-22T00:00:00.000Z  Chemical  .2653,.2657   \n",
       "1        2150  4092014572  2014-09-29T00:00:00.000Z  Chemical  .2653,.2657   \n",
       "2        2151  4092015906  2014-10-01T00:00:00.000Z  Chemical  .2653,.2657   \n",
       "3        2152  4092013840  2014-10-08T00:00:00.000Z  Chemical  .2653,.2657   \n",
       "4        2153  4092021788  2014-10-09T00:00:00.000Z  Chemical  .2653,.2657   \n",
       "\n",
       "  critical  questionno violationcode             severity  \\\n",
       "0      Yes          26      7-102.11  Priority Foundation   \n",
       "1      Yes          26      7-102.11  Priority Foundation   \n",
       "2      Yes          26      7-102.11  Priority Foundation   \n",
       "3      Yes          26      7-102.11  Priority Foundation   \n",
       "4      Yes          26      7-102.11  Priority Foundation   \n",
       "\n",
       "                                           shortdesc    inspectedby  \\\n",
       "0  Toxic substances properly identified, stored, ...    Lucy Schrum   \n",
       "1  Toxic substances properly identified, stored, ...  Daryl Beasley   \n",
       "2  Toxic substances properly identified, stored, ...    Lucy Schrum   \n",
       "3  Toxic substances properly identified, stored, ...    Lucy Schrum   \n",
       "4  Toxic substances properly identified, stored, ...    Lucy Schrum   \n",
       "\n",
       "                                            comments  pointvalue  \\\n",
       "0  7-102.11; Priority Foundation - Found unlabele...           0   \n",
       "1  7-102.11; Priority Foundation; One sanitizer b...           0   \n",
       "2  7-102.11; Priority Foundation - Found an unlab...           1   \n",
       "3  7-102.11; Priority Foundation - Found unlabele...           0   \n",
       "4  7-102.11; Priority Foundation - Found one unla...           0   \n",
       "\n",
       "  observationtype violationtype  count cdcriskfactor cdcdataitem  \n",
       "0             Out             R    NaN           NaN         NaN  \n",
       "1             Out           CDI    NaN           NaN         NaN  \n",
       "2             Out           CDI    NaN           NaN         NaN  \n",
       "3             Out           CDI    NaN           NaN         NaN  \n",
       "4             Out           CDI    NaN           NaN         NaN  "
      ]
     },
     "execution_count": 4,
     "metadata": {},
     "output_type": "execute_result"
    }
   ],
   "source": [
    "df_v.head()"
   ]
  },
  {
   "cell_type": "code",
   "execution_count": 5,
   "metadata": {},
   "outputs": [
    {
     "data": {
      "text/html": [
       "<div>\n",
       "<style scoped>\n",
       "    .dataframe tbody tr th:only-of-type {\n",
       "        vertical-align: middle;\n",
       "    }\n",
       "\n",
       "    .dataframe tbody tr th {\n",
       "        vertical-align: top;\n",
       "    }\n",
       "\n",
       "    .dataframe thead th {\n",
       "        text-align: right;\n",
       "    }\n",
       "</style>\n",
       "<table border=\"1\" class=\"dataframe\">\n",
       "  <thead>\n",
       "    <tr style=\"text-align: right;\">\n",
       "      <th></th>\n",
       "      <th>X.objectid</th>\n",
       "      <th>hsisid</th>\n",
       "      <th>name</th>\n",
       "      <th>address1</th>\n",
       "      <th>address2</th>\n",
       "      <th>city</th>\n",
       "      <th>state</th>\n",
       "      <th>postalcode</th>\n",
       "      <th>phonenumber</th>\n",
       "      <th>restaurantopendate</th>\n",
       "      <th>facilitytype</th>\n",
       "      <th>x</th>\n",
       "      <th>y</th>\n",
       "      <th>geocodestatus</th>\n",
       "    </tr>\n",
       "  </thead>\n",
       "  <tbody>\n",
       "    <tr>\n",
       "      <th>0</th>\n",
       "      <td>1001</td>\n",
       "      <td>4092017230</td>\n",
       "      <td>SPRING CAFE 2</td>\n",
       "      <td>2900-104 SPRING FOREST RD</td>\n",
       "      <td>NaN</td>\n",
       "      <td>RALEIGH</td>\n",
       "      <td>NC</td>\n",
       "      <td>27616-1895</td>\n",
       "      <td>(919) 977-3679</td>\n",
       "      <td>2016-05-26T00:00:00.000Z</td>\n",
       "      <td>Restaurant</td>\n",
       "      <td>-78.591634</td>\n",
       "      <td>35.855487</td>\n",
       "      <td>M</td>\n",
       "    </tr>\n",
       "    <tr>\n",
       "      <th>1</th>\n",
       "      <td>1002</td>\n",
       "      <td>4092040338</td>\n",
       "      <td>CAROLINA CLASSIC HOT DOGS #2 (WCID #549)</td>\n",
       "      <td>309 HOLLOMAN ST</td>\n",
       "      <td>NaN</td>\n",
       "      <td>APEX</td>\n",
       "      <td>NC</td>\n",
       "      <td>27502</td>\n",
       "      <td>NaN</td>\n",
       "      <td>2016-07-01T00:00:00.000Z</td>\n",
       "      <td>Pushcarts</td>\n",
       "      <td>-78.855348</td>\n",
       "      <td>35.730219</td>\n",
       "      <td>M</td>\n",
       "    </tr>\n",
       "    <tr>\n",
       "      <th>2</th>\n",
       "      <td>1003</td>\n",
       "      <td>4092014444</td>\n",
       "      <td>Taco Bell #22798</td>\n",
       "      <td>2207 S MAIN ST</td>\n",
       "      <td>NaN</td>\n",
       "      <td>WAKE FOREST</td>\n",
       "      <td>NC</td>\n",
       "      <td>27587</td>\n",
       "      <td>(919) 554-4924</td>\n",
       "      <td>2005-12-05T00:00:00.000Z</td>\n",
       "      <td>Restaurant</td>\n",
       "      <td>-78.536145</td>\n",
       "      <td>35.946695</td>\n",
       "      <td>M</td>\n",
       "    </tr>\n",
       "    <tr>\n",
       "      <th>3</th>\n",
       "      <td>1004</td>\n",
       "      <td>4092015333</td>\n",
       "      <td>THE REMEDY DINER</td>\n",
       "      <td>137 E HARGETT ST</td>\n",
       "      <td>NaN</td>\n",
       "      <td>RALEIGH</td>\n",
       "      <td>NC</td>\n",
       "      <td>27601</td>\n",
       "      <td>(919) 835-3553</td>\n",
       "      <td>2009-02-04T00:00:00.000Z</td>\n",
       "      <td>Restaurant</td>\n",
       "      <td>-78.636895</td>\n",
       "      <td>35.777999</td>\n",
       "      <td>M</td>\n",
       "    </tr>\n",
       "    <tr>\n",
       "      <th>4</th>\n",
       "      <td>1005</td>\n",
       "      <td>4092160069</td>\n",
       "      <td>ZEBULON HOUSE (KITCHEN)</td>\n",
       "      <td>551 PONY RD</td>\n",
       "      <td>NaN</td>\n",
       "      <td>ZEBULON</td>\n",
       "      <td>NC</td>\n",
       "      <td>27597</td>\n",
       "      <td>NaN</td>\n",
       "      <td>2009-02-18T00:00:00.000Z</td>\n",
       "      <td>Institutional Food Service</td>\n",
       "      <td>-78.332138</td>\n",
       "      <td>35.816779</td>\n",
       "      <td>M</td>\n",
       "    </tr>\n",
       "  </tbody>\n",
       "</table>\n",
       "</div>"
      ],
      "text/plain": [
       "   X.objectid      hsisid                                      name  \\\n",
       "0        1001  4092017230                             SPRING CAFE 2   \n",
       "1        1002  4092040338  CAROLINA CLASSIC HOT DOGS #2 (WCID #549)   \n",
       "2        1003  4092014444                          Taco Bell #22798   \n",
       "3        1004  4092015333                          THE REMEDY DINER   \n",
       "4        1005  4092160069                   ZEBULON HOUSE (KITCHEN)   \n",
       "\n",
       "                     address1 address2         city state  postalcode  \\\n",
       "0  2900-104 SPRING FOREST RD       NaN      RALEIGH    NC  27616-1895   \n",
       "1            309 HOLLOMAN ST       NaN         APEX    NC       27502   \n",
       "2             2207 S MAIN ST       NaN  WAKE FOREST    NC       27587   \n",
       "3           137 E HARGETT ST       NaN      RALEIGH    NC       27601   \n",
       "4                551 PONY RD       NaN      ZEBULON    NC       27597   \n",
       "\n",
       "      phonenumber        restaurantopendate                facilitytype  \\\n",
       "0  (919) 977-3679  2016-05-26T00:00:00.000Z                  Restaurant   \n",
       "1             NaN  2016-07-01T00:00:00.000Z                   Pushcarts   \n",
       "2  (919) 554-4924  2005-12-05T00:00:00.000Z                  Restaurant   \n",
       "3  (919) 835-3553  2009-02-04T00:00:00.000Z                  Restaurant   \n",
       "4             NaN  2009-02-18T00:00:00.000Z  Institutional Food Service   \n",
       "\n",
       "           x          y geocodestatus  \n",
       "0 -78.591634  35.855487             M  \n",
       "1 -78.855348  35.730219             M  \n",
       "2 -78.536145  35.946695             M  \n",
       "3 -78.636895  35.777999             M  \n",
       "4 -78.332138  35.816779             M  "
      ]
     },
     "execution_count": 5,
     "metadata": {},
     "output_type": "execute_result"
    }
   ],
   "source": [
    "df_r.head()"
   ]
  },
  {
   "cell_type": "code",
   "execution_count": 6,
   "metadata": {},
   "outputs": [
    {
     "data": {
      "text/html": [
       "<div>\n",
       "<style scoped>\n",
       "    .dataframe tbody tr th:only-of-type {\n",
       "        vertical-align: middle;\n",
       "    }\n",
       "\n",
       "    .dataframe tbody tr th {\n",
       "        vertical-align: top;\n",
       "    }\n",
       "\n",
       "    .dataframe thead th {\n",
       "        text-align: right;\n",
       "    }\n",
       "</style>\n",
       "<table border=\"1\" class=\"dataframe\">\n",
       "  <thead>\n",
       "    <tr style=\"text-align: right;\">\n",
       "      <th></th>\n",
       "      <th>zip</th>\n",
       "      <th>median_family_income_dollars</th>\n",
       "      <th>median_household_income_dollars</th>\n",
       "      <th>per_capita_income_dollars</th>\n",
       "      <th>percent_damilies_below_poverty_line</th>\n",
       "      <th>percent_snap_benefits</th>\n",
       "      <th>percent_supplemental_security_income</th>\n",
       "      <th>percent_nonwhite</th>\n",
       "    </tr>\n",
       "  </thead>\n",
       "  <tbody>\n",
       "    <tr>\n",
       "      <th>0</th>\n",
       "      <td>27501</td>\n",
       "      <td>59408</td>\n",
       "      <td>51121</td>\n",
       "      <td>21631</td>\n",
       "      <td>10.5</td>\n",
       "      <td>15.5</td>\n",
       "      <td>5.2</td>\n",
       "      <td>17.9</td>\n",
       "    </tr>\n",
       "    <tr>\n",
       "      <th>1</th>\n",
       "      <td>27502</td>\n",
       "      <td>109891</td>\n",
       "      <td>95857</td>\n",
       "      <td>36763</td>\n",
       "      <td>3.4</td>\n",
       "      <td>2.4</td>\n",
       "      <td>0.8</td>\n",
       "      <td>18.9</td>\n",
       "    </tr>\n",
       "    <tr>\n",
       "      <th>2</th>\n",
       "      <td>27511</td>\n",
       "      <td>82292</td>\n",
       "      <td>67392</td>\n",
       "      <td>33139</td>\n",
       "      <td>9.6</td>\n",
       "      <td>4.5</td>\n",
       "      <td>2.2</td>\n",
       "      <td>24.8</td>\n",
       "    </tr>\n",
       "    <tr>\n",
       "      <th>3</th>\n",
       "      <td>27513</td>\n",
       "      <td>109736</td>\n",
       "      <td>87262</td>\n",
       "      <td>41232</td>\n",
       "      <td>3.8</td>\n",
       "      <td>2.4</td>\n",
       "      <td>1.5</td>\n",
       "      <td>27.8</td>\n",
       "    </tr>\n",
       "    <tr>\n",
       "      <th>4</th>\n",
       "      <td>27518</td>\n",
       "      <td>125432</td>\n",
       "      <td>98247</td>\n",
       "      <td>49865</td>\n",
       "      <td>5.5</td>\n",
       "      <td>1.0</td>\n",
       "      <td>1.7</td>\n",
       "      <td>19.9</td>\n",
       "    </tr>\n",
       "  </tbody>\n",
       "</table>\n",
       "</div>"
      ],
      "text/plain": [
       "     zip  median_family_income_dollars  median_household_income_dollars  \\\n",
       "0  27501                         59408                            51121   \n",
       "1  27502                        109891                            95857   \n",
       "2  27511                         82292                            67392   \n",
       "3  27513                        109736                            87262   \n",
       "4  27518                        125432                            98247   \n",
       "\n",
       "   per_capita_income_dollars  percent_damilies_below_poverty_line  \\\n",
       "0                      21631                                 10.5   \n",
       "1                      36763                                  3.4   \n",
       "2                      33139                                  9.6   \n",
       "3                      41232                                  3.8   \n",
       "4                      49865                                  5.5   \n",
       "\n",
       "   percent_snap_benefits  percent_supplemental_security_income  \\\n",
       "0                   15.5                                   5.2   \n",
       "1                    2.4                                   0.8   \n",
       "2                    4.5                                   2.2   \n",
       "3                    2.4                                   1.5   \n",
       "4                    1.0                                   1.7   \n",
       "\n",
       "   percent_nonwhite  \n",
       "0              17.9  \n",
       "1              18.9  \n",
       "2              24.8  \n",
       "3              27.8  \n",
       "4              19.9  "
      ]
     },
     "execution_count": 6,
     "metadata": {},
     "output_type": "execute_result"
    }
   ],
   "source": [
    "df_z.head()"
   ]
  },
  {
   "cell_type": "markdown",
   "metadata": {},
   "source": [
    "# Data Cleaning"
   ]
  },
  {
   "cell_type": "markdown",
   "metadata": {},
   "source": [
    "Describe your data cleaning steps here."
   ]
  },
  {
   "cell_type": "markdown",
   "metadata": {},
   "source": [
    "Here, I make sure to pull only the columns needed from the dataset, dropping the unnecessary ones. In order to merge these dataframes, I must make the <code>zip</code> column all <code>str</code> instead of <code>int</code>. I then rename the <code>postalcode</code> column to <code>zip</code>."
   ]
  },
  {
   "cell_type": "code",
   "execution_count": 7,
   "metadata": {},
   "outputs": [],
   "source": [
    "df_v = df_v[['hsisid', 'violationtype']]\n",
    "df_r = df_r[['hsisid', 'postalcode']]\n",
    "df_z = df_z[['zip', 'per_capita_income_dollars', \n",
    "             'percent_damilies_below_poverty_line', \n",
    "             'percent_nonwhite']]"
   ]
  },
  {
   "cell_type": "code",
   "execution_count": 8,
   "metadata": {},
   "outputs": [],
   "source": [
    "df_z['zip'] = df_z['zip'].apply(str)\n",
    "df_r.columns = ['hsisid', 'zip']"
   ]
  },
  {
   "cell_type": "code",
   "execution_count": 9,
   "metadata": {},
   "outputs": [
    {
     "data": {
      "text/plain": [
       "array(['27616-1895', '27502', '27587', '27601', '27597', '27610', '27617',\n",
       "       '27513', '27591', '27612', '27526-2617', '27606-1937',\n",
       "       '27513-5318', '27603', '27597-2404', '27609', '27520', '27616',\n",
       "       '27545', '27613', '27526', '27606-1595', '27513-3046',\n",
       "       '27604-3394', '27529', '27614', '27511', '27606', '27607', '27540',\n",
       "       '27615', '27606-1934', '27608-2646', '27605-1424', '27603-1831',\n",
       "       '27603-5926', '27604-3754', '27606-3326', '27604-2801', '27602',\n",
       "       '27604', '27604-4479', '27605', '27539-8160', '27608',\n",
       "       '27604-4315', '27604-3387', '27560', '27601-1030', '27601-1821',\n",
       "       '27607-5244', '27511-4465', '27512', '27518', '27523-9315',\n",
       "       '27519', '27606-2198', '27616-4335', '27526-1966', '27695',\n",
       "       '27597-2602', '27605-1324', '27616-5700', '27604-4353', '28277',\n",
       "       '27587-4898', '27613-1900', '27601-1605', '27571-9664',\n",
       "       '27609-5761', '27529-3128', '27592-7810', '27605-1731',\n",
       "       '27513-5549', '27615-4320', '27571', '27511-4041', '27511-8553',\n",
       "       '27609-7869', '27652', '27709', '27520-9306', '27603-1429',\n",
       "       '27610-4186', '27604-3488', '27511-3923', '27615-3834', '27623',\n",
       "       '27545-8996', '27502-1320', '27605-1314', '27616-5353',\n",
       "       '27606-2138', '27579', '27615-1935', '27539', '27604-1170',\n",
       "       '27603-3608', '27612-6709', '27615-6162', '27610-2918',\n",
       "       '27603-3526', '27587-6200', '27610-1076', '27615-1937',\n",
       "       '27607-2903', '27610-4014', '27609-3505', '27519-8452',\n",
       "       '27610-5102', '27502-1539', '27607-5463', '27501', '27614-9570',\n",
       "       '27502-2146', '27523', '27545-7719', '27601-1818', '27604-1510',\n",
       "       '27615-2970', '27540-9027', '27511-6606', '27595', '27603-1219',\n",
       "       '27560-9193', '27607-3624', '27573', '27619', '27612-4842',\n",
       "       '27613-4389', '27613-7538', '27597-2403', '27603-1737', '27618',\n",
       "       '27609-2514', '27610-1239', '27608-1710', '27513-4557',\n",
       "       '27604-9778', '27604-2806', '27587-2645', '27616-6353',\n",
       "       '27604-2536', '27511-6616', '27613-1641', '27612-7156',\n",
       "       '27616-3232', '27614-9706', '27603-3600', '27529-4778',\n",
       "       '27612-4653', '27603-5655', '27604-3333', '27601-2340',\n",
       "       '27511-9210', '27607-5406', '27604-3761', '27613-1664',\n",
       "       '27513-8478', '27604-1002', '27609-7446', '27609-4202',\n",
       "       '27613-1385', '27616-2967', '27605-1327', '27607-7248',\n",
       "       '27615-3830', '27603-1452', '27587-2703', '27591-6904',\n",
       "       '27545-9274', '27511-3331', '27606-8930', '27616-2903',\n",
       "       '27612-3114', '27601-2341', '27529-9300', '27607-2927',\n",
       "       '27526-7257', '27610-2247', '27605-1519', '27562', '27603-9559',\n",
       "       '27601-1344', '27601-1841', '27591-8309', '27511-5928',\n",
       "       '27613-1639', '27615-4805', '27545-8800', '27616-2945',\n",
       "       '27511-6804', '27511-9230', '27612-5404', '27615-1636',\n",
       "       '27607-3902', '27612-6820', '27513-8720', '27529-4870',\n",
       "       '27502-1428', '27511-3802', '27612-5385', '27612-4532',\n",
       "       '27615-1936', '27513-4163', '27606-4346', '27560-8935',\n",
       "       '27609-7844', '27616-6482', '27609-6283', '27609-7846',\n",
       "       '27608-2635', '27511-9205', '27603-5861', '27609-7850',\n",
       "       '27604-4478', '27601-1352', '27612-3244', '27502-4862',\n",
       "       '27511-6896', '27539-7657', '27591-9589', '27513-8908',\n",
       "       '27526-8363', '27587-6516', '27601-1624', '27614-9453',\n",
       "       '27608-1220', '27607-5462', '27601-2525', '27609-4436',\n",
       "       '27604-8103', '27615-2472', '27526-1799', '27615-6164',\n",
       "       '27610-1379', '27608-1044', '27560-7686', '27616-3150',\n",
       "       '27606-2626', '27606-2427', '27560-8729', '27613-1663',\n",
       "       '27612-7128', '27612-7002', '27616-2989', '27613-4382',\n",
       "       '27513-2408', '27612-2620', '27591-9072', '27628', '27601-1369',\n",
       "       '27610-2904', '27511-9201', '27607-5237', '27529-3637',\n",
       "       '27529-3311', '27613-4094', '27613-7536', '27604-3474',\n",
       "       '27615-6814', '27511-7708', '27513-4560', '27609-6228',\n",
       "       '27511-4401', '27601-1058', '27615-2075', '27605-1648',\n",
       "       '27610-2536', '27612-6730', '27607-4048', '27604-3225',\n",
       "       '27502-1927', '27609-7316', '27612-5367', '27608-2731',\n",
       "       '27513-5257', '27603-9533', '27513-4051', '27606-3700',\n",
       "       '27545-7717', '27511-3302', '27513-3904', '27519-9276',\n",
       "       '27526-1640', '27616-4483', '27560-9129', '27511-4947',\n",
       "       '27613-4091', '27587-4509', '27529-2571', '27610-4328',\n",
       "       '27502-2162', '27609-6201', '27608-2316', '27529-4836',\n",
       "       '27615-2930', '27608-0707', '27587-9055', '27511-7050',\n",
       "       '27606-2102', '27614-8227', '27604-3338', '27540-9397',\n",
       "       '27617-7596', '27610-5110', '27587-9288', '27615-1902',\n",
       "       '27511-6892', '27609-6229', '27603-4829', '27604-1332',\n",
       "       '27591-9492', '27604-1502', '27609-5957', '27511-4255',\n",
       "       '27529-8599', '27615-2464', '27614-6731', '27604-3335',\n",
       "       '27606-1148', '27606-2137', '27511-4548', '27513-4558',\n",
       "       '27606-4114', '27603-1935', '27613-1004', '27605-1325',\n",
       "       '27603-1108', '27606-4235', '27601-1323', '27604-3334',\n",
       "       '27613-7541', '27592-9342', '27608-2323', '27526-2235',\n",
       "       '27560-9194', '27606-2720', '27603-4120', '27615-2473',\n",
       "       '27540-7370', '27587-8533', '27616-2929', '27511-3318',\n",
       "       '27607-5408', '27511-4224', '27604-1085', '27612-6316',\n",
       "       '27603-5925', '27606-1963', '27610-1437', '27603-1300',\n",
       "       '27603-3529', '27513-3111', '27513-8726', '27603-2366',\n",
       "       '27601-1020', '27606-1405', '27610-3909', '27609-4760',\n",
       "       '27615-6812', '27604-1743', '27612-5303', '27607-3616',\n",
       "       '27523-8242', '27587-7352', '27615-3312', '27526-8923',\n",
       "       '27612-2580', '27608-2400', '27607-6433', '27523-9300',\n",
       "       '27609-7889', '27612-2650', '27596', '27587-7349', '27511-6668',\n",
       "       '27615-3416', '27610-1232', '27609-5710', '27615-7540',\n",
       "       '27609-7879', '27601-1440', '27612-4626', '27601-1105',\n",
       "       '27610-1333', '27529-2547', '27511-4219', '27511-6603',\n",
       "       '27511-9208', '27610-9366', '27612-6256', '27591-7289',\n",
       "       '27587-4229', '27511-8421', '27511-4402', '27591-9034',\n",
       "       '27603-1224', '27603-1511', '27614-9369', '27604-1600',\n",
       "       '27612-2651', '27511-4523', '27612-4657', '27529-2908',\n",
       "       '27587-2739', '27614-7103', '27606-2133', '27587-2129',\n",
       "       '27604-3339', '27526-9024', '27610-1200', '27511-9611',\n",
       "       '27526-1603', '27607-5437', '27511-5523', '27609-7829',\n",
       "       '27612-2636', '27614-8239', '27605-1323', '27603-1726',\n",
       "       '27604-1662', '27526-3602', '27604-1723', '27511-6715',\n",
       "       '27606-3328', '27523-7140', '27604-8108', '27511-9207',\n",
       "       '27526-8901', '27607-7042', '27513-4175', '27597-2770',\n",
       "       '27513-4168', '27610-1332', '27603-5634', '27511-5525',\n",
       "       '27610-1231', '27587-7487', '27607-6599', '27612-2618',\n",
       "       '27601-1395', '27597-2511', '27513-3741', '27609-7311',\n",
       "       '27601-2624', '27615-4829', '27545-7726', '27511-6894',\n",
       "       '27604-4314', '27560-9300', '27604-4348', '27607-5139',\n",
       "       '27529-3007', '27615-3348', '27526-9036', '27601-1801',\n",
       "       '27612-2210', '27545-9265', '27610-1125', '27603-1732',\n",
       "       '27513-2414', '27606-4451', '27613-4139', '27539-7655',\n",
       "       '27560-9376', '27615-1939', '27560-8495', '27606-9118',\n",
       "       '27609-7828', '27613-1637', '27604-3366', '27604-9540',\n",
       "       '27511-4762', '27511-4583', '27529-4115', '27604-3450',\n",
       "       '27615-1912', '27605-1640', '27604-1176', '27612-7136',\n",
       "       '27539-7700', '27529-2591', '27526-1946', '27526-1805',\n",
       "       '27616-2924', '27612-5369', '27511-4735', '27539-7982',\n",
       "       '27604-2040', '27615-7536', '27511-4418', '27603-3538', '27522',\n",
       "       '27604-1362', '27616-3268', '27610-2529', '27603-1851',\n",
       "       '27610-4154', '27603-1610', '27609-6235', '27603-1133',\n",
       "       '27603-1365', '27571-9662', '27609-6288', '27604-2471',\n",
       "       '27587-2927', '27513-2008', '27606-4673', '27615-5316',\n",
       "       '27560-8402', '27587-6515', '27607-5066', '27610-2211',\n",
       "       '27526-2618', '27615-3412', '27560-6610', '27603-1232',\n",
       "       '27609-7317', '27610-2408', '27597-8726', '27560-9195',\n",
       "       '27502-3953', '27614-9478', '27609-5771', '27560-8278',\n",
       "       '27603-5631', '27601-1441', '27511-6928', '27560-8487',\n",
       "       '27607-3876', '27607-3906', '27612-3365', '27526-6900', '27263',\n",
       "       '27604-3340', '27612-5802', '27603-2843', '27511-9614',\n",
       "       '27616-3048', '27560-8499', '27502-2151', '27615-2722',\n",
       "       '27560-7359', '27511-7912', '27616-6455', '27610-2429',\n",
       "       '27540-9195', '27514', '27604-3329', '27609-5731', '27587-7485',\n",
       "       '27513-3902', '27601-1311', '27617-4757', '27529-4642', '28587',\n",
       "       '27607-5084', '27560-9128', '27603-1223', '27610-1363',\n",
       "       '27513-3574', '28145', '27597-2603', '27587-2741', '27604-1333',\n",
       "       '27513-8411', '27612-5379', '27587-8793', '27560-5703',\n",
       "       '27607-7505', '27511-4205', '27609-4431', '27609-6842',\n",
       "       '27615-5373', '27624', '27502-2188', '27610-1372', '27529-2586',\n",
       "       '27513-5544', '27520-9321', '27612-8071', '27612-3374',\n",
       "       '27523-1564', '27587-2901', '27511-6614', '27612-4633',\n",
       "       '27560-5908', '27605-1237', '27612-6305', '27650', '27612-3814',\n",
       "       '27601-1803', '27603-3606', '27597-2837', '27615-5322',\n",
       "       '27609-6233', '27513-2406'], dtype=object)"
      ]
     },
     "execution_count": 9,
     "metadata": {},
     "output_type": "execute_result"
    }
   ],
   "source": [
    "df_r.zip.unique()"
   ]
  },
  {
   "cell_type": "markdown",
   "metadata": {},
   "source": [
    "Because <code>df_r</code> has a ton of unique zip codes, I wrote a function to condense these zip codes into the standard five number code."
   ]
  },
  {
   "cell_type": "code",
   "execution_count": 10,
   "metadata": {},
   "outputs": [],
   "source": [
    "def condense(zipcode):\n",
    "    if len(zipcode) != 5:\n",
    "        output = zipcode[0:5]\n",
    "    else:\n",
    "        output = zipcode\n",
    "        \n",
    "    return output"
   ]
  },
  {
   "cell_type": "code",
   "execution_count": 11,
   "metadata": {},
   "outputs": [],
   "source": [
    "df_r['zip'] = df_r['zip'].apply(condense)"
   ]
  },
  {
   "cell_type": "markdown",
   "metadata": {},
   "source": [
    "Then, I merged all of the dataframes into one named <code>df</code>"
   ]
  },
  {
   "cell_type": "code",
   "execution_count": 12,
   "metadata": {},
   "outputs": [],
   "source": [
    "df = df_v.merge(df_r)"
   ]
  },
  {
   "cell_type": "markdown",
   "metadata": {},
   "source": [
    "Now, I took the merged dataframe and counted the number of violations by zip code and stored it into a temporary dataframe, <code>df_temp</code>. Then, I renamed <code>violationtype</code> to <code>num_violations</code> in <code>df_temp</code>, and merged that with the original <code>df_z</code>, overwriting <code>df</code>."
   ]
  },
  {
   "cell_type": "code",
   "execution_count": 13,
   "metadata": {},
   "outputs": [],
   "source": [
    "df_temp = df.groupby('zip', as_index=False)['violationtype'].count()\n",
    "df_temp.columns = ['zip', 'num_violations']\n",
    "df_temp['zip'] = df_temp['zip'].apply(str)\n",
    "df = df_z.merge(df_temp)"
   ]
  },
  {
   "cell_type": "markdown",
   "metadata": {},
   "source": [
    "To make the dataframe easier to read, I renamed the columns <code>per_capita_income_dollars</code> to <code>income</code> and <code>percent_dfamilies_below_poverty_line</code> to <code>percent_family_poverty</code>"
   ]
  },
  {
   "cell_type": "code",
   "execution_count": 14,
   "metadata": {},
   "outputs": [],
   "source": [
    "df.columns = ['zip', 'income', 'percent_family_poverty', \n",
    "              'percent_nonwhite', 'num_violations']"
   ]
  },
  {
   "cell_type": "code",
   "execution_count": 15,
   "metadata": {},
   "outputs": [
    {
     "data": {
      "text/html": [
       "<div>\n",
       "<style scoped>\n",
       "    .dataframe tbody tr th:only-of-type {\n",
       "        vertical-align: middle;\n",
       "    }\n",
       "\n",
       "    .dataframe tbody tr th {\n",
       "        vertical-align: top;\n",
       "    }\n",
       "\n",
       "    .dataframe thead th {\n",
       "        text-align: right;\n",
       "    }\n",
       "</style>\n",
       "<table border=\"1\" class=\"dataframe\">\n",
       "  <thead>\n",
       "    <tr style=\"text-align: right;\">\n",
       "      <th></th>\n",
       "      <th>zip</th>\n",
       "      <th>income</th>\n",
       "      <th>percent_family_poverty</th>\n",
       "      <th>percent_nonwhite</th>\n",
       "      <th>num_violations</th>\n",
       "    </tr>\n",
       "  </thead>\n",
       "  <tbody>\n",
       "    <tr>\n",
       "      <th>0</th>\n",
       "      <td>27501</td>\n",
       "      <td>21631</td>\n",
       "      <td>10.5</td>\n",
       "      <td>17.9</td>\n",
       "      <td>43</td>\n",
       "    </tr>\n",
       "    <tr>\n",
       "      <th>1</th>\n",
       "      <td>27502</td>\n",
       "      <td>36763</td>\n",
       "      <td>3.4</td>\n",
       "      <td>18.9</td>\n",
       "      <td>2624</td>\n",
       "    </tr>\n",
       "    <tr>\n",
       "      <th>2</th>\n",
       "      <td>27511</td>\n",
       "      <td>33139</td>\n",
       "      <td>9.6</td>\n",
       "      <td>24.8</td>\n",
       "      <td>6152</td>\n",
       "    </tr>\n",
       "    <tr>\n",
       "      <th>3</th>\n",
       "      <td>27513</td>\n",
       "      <td>41232</td>\n",
       "      <td>3.8</td>\n",
       "      <td>27.8</td>\n",
       "      <td>5371</td>\n",
       "    </tr>\n",
       "    <tr>\n",
       "      <th>4</th>\n",
       "      <td>27518</td>\n",
       "      <td>49865</td>\n",
       "      <td>5.5</td>\n",
       "      <td>19.9</td>\n",
       "      <td>907</td>\n",
       "    </tr>\n",
       "  </tbody>\n",
       "</table>\n",
       "</div>"
      ],
      "text/plain": [
       "     zip  income  percent_family_poverty  percent_nonwhite  num_violations\n",
       "0  27501   21631                    10.5              17.9              43\n",
       "1  27502   36763                     3.4              18.9            2624\n",
       "2  27511   33139                     9.6              24.8            6152\n",
       "3  27513   41232                     3.8              27.8            5371\n",
       "4  27518   49865                     5.5              19.9             907"
      ]
     },
     "execution_count": 15,
     "metadata": {},
     "output_type": "execute_result"
    }
   ],
   "source": [
    "df.head()"
   ]
  },
  {
   "cell_type": "markdown",
   "metadata": {},
   "source": [
    "# Data Analysis & Results"
   ]
  },
  {
   "cell_type": "markdown",
   "metadata": {},
   "source": [
    "From here, I decided to use seaborn's <code>lmplot</code> to visualize relationships between <code>income</code> <code>percent_family_poverty</code> and <code>percent_nonwhite</code> to <code>num_violations</code>."
   ]
  },
  {
   "cell_type": "code",
   "execution_count": 16,
   "metadata": {},
   "outputs": [
    {
     "name": "stderr",
     "output_type": "stream",
     "text": [
      "/opt/conda/lib/python3.6/site-packages/scipy/stats/stats.py:1713: FutureWarning: Using a non-tuple sequence for multidimensional indexing is deprecated; use `arr[tuple(seq)]` instead of `arr[seq]`. In the future this will be interpreted as an array index, `arr[np.array(seq)]`, which will result either in an error or a different result.\n",
      "  return np.add.reduce(sorted[indexer] * weights, axis=axis) / sumval\n"
     ]
    },
    {
     "data": {
      "text/plain": [
       "Text(0.5, 1, 'Per Capita Income vs. Number of Violations \\n(possible weak positive relationship skewed by outliers)')"
      ]
     },
     "execution_count": 16,
     "metadata": {},
     "output_type": "execute_result"
    },
    {
     "data": {
      "image/png": "[encoded data removed]",
      "text/plain": [
       "<Figure size 360x360 with 1 Axes>"
      ]
     },
     "metadata": {
      "needs_background": "light"
     },
     "output_type": "display_data"
    }
   ],
   "source": [
    "sns.lmplot(x='income', y='num_violations', data=df, fit_reg=True)\n",
    "plt.title('Per Capita Income vs. Number of Violations \\n(possible weak positive relationship skewed by outliers)')"
   ]
  },
  {
   "cell_type": "code",
   "execution_count": 17,
   "metadata": {},
   "outputs": [
    {
     "data": {
      "text/plain": [
       "Text(0.5, 1, 'Percentage of Families Below Poverty Line vs. Number of Violations\\n (possible positive correlation skewed by outliers)')"
      ]
     },
     "execution_count": 17,
     "metadata": {},
     "output_type": "execute_result"
    },
    {
     "data": {
      "image/png": "[encoded data removed]",
      "text/plain": [
       "<Figure size 360x360 with 1 Axes>"
      ]
     },
     "metadata": {
      "needs_background": "light"
     },
     "output_type": "display_data"
    }
   ],
   "source": [
    "sns.lmplot(x='percent_family_poverty', y='num_violations', data=df, fit_reg=True)\n",
    "plt.title('Percentage of Families Below Poverty Line vs. Number of Violations' \n",
    "          '\\n (possible positive correlation skewed by outliers)')"
   ]
  },
  {
   "cell_type": "code",
   "execution_count": 18,
   "metadata": {},
   "outputs": [
    {
     "data": {
      "text/plain": [
       "Text(0.5, 1, 'Percentage of Non-White Familes vs. Number of Violations \\n (possible positive relationship skewed by outliers)')"
      ]
     },
     "execution_count": 18,
     "metadata": {},
     "output_type": "execute_result"
    },
    {
     "data": {
      "image/png": "[encoded data removed]",
      "text/plain": [
       "<Figure size 360x360 with 1 Axes>"
      ]
     },
     "metadata": {
      "needs_background": "light"
     },
     "output_type": "display_data"
    }
   ],
   "source": [
    "sns.lmplot(x='percent_nonwhite', y='num_violations', data=df, fit_reg=True)\n",
    "plt.title('Percentage of Non-White Familes vs. Number of Violations \\n (possible positive relationship skewed by outliers)')"
   ]
  },
  {
   "cell_type": "markdown",
   "metadata": {},
   "source": [
    "Since the scatterplots above seem extremely skewed from outliers, I decided to perform a log transformation of the data to decrease the skew."
   ]
  },
  {
   "cell_type": "code",
   "execution_count": 19,
   "metadata": {},
   "outputs": [],
   "source": [
    "df['income10'] = np.log10(df['income'])\n",
    "df['percent_family_poverty10'] = np.log10(df['percent_family_poverty'])\n",
    "df['percent_nonwhite10'] = np.log10(df['percent_nonwhite'])\n",
    "df['num_violations10'] = np.log10(df['num_violations'])"
   ]
  },
  {
   "cell_type": "code",
   "execution_count": 20,
   "metadata": {},
   "outputs": [
    {
     "data": {
      "text/html": [
       "<div>\n",
       "<style scoped>\n",
       "    .dataframe tbody tr th:only-of-type {\n",
       "        vertical-align: middle;\n",
       "    }\n",
       "\n",
       "    .dataframe tbody tr th {\n",
       "        vertical-align: top;\n",
       "    }\n",
       "\n",
       "    .dataframe thead th {\n",
       "        text-align: right;\n",
       "    }\n",
       "</style>\n",
       "<table border=\"1\" class=\"dataframe\">\n",
       "  <thead>\n",
       "    <tr style=\"text-align: right;\">\n",
       "      <th></th>\n",
       "      <th>zip</th>\n",
       "      <th>income</th>\n",
       "      <th>percent_family_poverty</th>\n",
       "      <th>percent_nonwhite</th>\n",
       "      <th>num_violations</th>\n",
       "      <th>income10</th>\n",
       "      <th>percent_family_poverty10</th>\n",
       "      <th>percent_nonwhite10</th>\n",
       "      <th>num_violations10</th>\n",
       "    </tr>\n",
       "  </thead>\n",
       "  <tbody>\n",
       "    <tr>\n",
       "      <th>0</th>\n",
       "      <td>27501</td>\n",
       "      <td>21631</td>\n",
       "      <td>10.5</td>\n",
       "      <td>17.9</td>\n",
       "      <td>43</td>\n",
       "      <td>4.335077</td>\n",
       "      <td>1.021189</td>\n",
       "      <td>1.252853</td>\n",
       "      <td>1.633468</td>\n",
       "    </tr>\n",
       "    <tr>\n",
       "      <th>1</th>\n",
       "      <td>27502</td>\n",
       "      <td>36763</td>\n",
       "      <td>3.4</td>\n",
       "      <td>18.9</td>\n",
       "      <td>2624</td>\n",
       "      <td>4.565411</td>\n",
       "      <td>0.531479</td>\n",
       "      <td>1.276462</td>\n",
       "      <td>3.418964</td>\n",
       "    </tr>\n",
       "    <tr>\n",
       "      <th>2</th>\n",
       "      <td>27511</td>\n",
       "      <td>33139</td>\n",
       "      <td>9.6</td>\n",
       "      <td>24.8</td>\n",
       "      <td>6152</td>\n",
       "      <td>4.520339</td>\n",
       "      <td>0.982271</td>\n",
       "      <td>1.394452</td>\n",
       "      <td>3.789016</td>\n",
       "    </tr>\n",
       "    <tr>\n",
       "      <th>3</th>\n",
       "      <td>27513</td>\n",
       "      <td>41232</td>\n",
       "      <td>3.8</td>\n",
       "      <td>27.8</td>\n",
       "      <td>5371</td>\n",
       "      <td>4.615234</td>\n",
       "      <td>0.579784</td>\n",
       "      <td>1.444045</td>\n",
       "      <td>3.730055</td>\n",
       "    </tr>\n",
       "    <tr>\n",
       "      <th>4</th>\n",
       "      <td>27518</td>\n",
       "      <td>49865</td>\n",
       "      <td>5.5</td>\n",
       "      <td>19.9</td>\n",
       "      <td>907</td>\n",
       "      <td>4.697796</td>\n",
       "      <td>0.740363</td>\n",
       "      <td>1.298853</td>\n",
       "      <td>2.957607</td>\n",
       "    </tr>\n",
       "  </tbody>\n",
       "</table>\n",
       "</div>"
      ],
      "text/plain": [
       "     zip  income  percent_family_poverty  percent_nonwhite  num_violations  \\\n",
       "0  27501   21631                    10.5              17.9              43   \n",
       "1  27502   36763                     3.4              18.9            2624   \n",
       "2  27511   33139                     9.6              24.8            6152   \n",
       "3  27513   41232                     3.8              27.8            5371   \n",
       "4  27518   49865                     5.5              19.9             907   \n",
       "\n",
       "   income10  percent_family_poverty10  percent_nonwhite10  num_violations10  \n",
       "0  4.335077                  1.021189            1.252853          1.633468  \n",
       "1  4.565411                  0.531479            1.276462          3.418964  \n",
       "2  4.520339                  0.982271            1.394452          3.789016  \n",
       "3  4.615234                  0.579784            1.444045          3.730055  \n",
       "4  4.697796                  0.740363            1.298853          2.957607  "
      ]
     },
     "execution_count": 20,
     "metadata": {},
     "output_type": "execute_result"
    }
   ],
   "source": [
    "df.head()"
   ]
  },
  {
   "cell_type": "markdown",
   "metadata": {},
   "source": [
    "Then, I plotted the Log10 of each value vs. Log10 of <code>num_violations</code>."
   ]
  },
  {
   "cell_type": "code",
   "execution_count": 21,
   "metadata": {},
   "outputs": [
    {
     "data": {
      "text/plain": [
       "Text(0.5, 1, 'Log10 of Income vs. Log10 of Number of Violations \\n (positive relationship skewed by outliers)')"
      ]
     },
     "execution_count": 21,
     "metadata": {},
     "output_type": "execute_result"
    },
    {
     "data": {
      "image/png": "[encoded data removed]",
      "text/plain": [
       "<Figure size 360x360 with 1 Axes>"
      ]
     },
     "metadata": {
      "needs_background": "light"
     },
     "output_type": "display_data"
    }
   ],
   "source": [
    "sns.lmplot(x='income10', y='num_violations10', data=df, fit_reg=True)\n",
    "plt.title('Log10 of Income vs. Log10 of Number of Violations \\n (positive relationship skewed by outliers)')"
   ]
  },
  {
   "cell_type": "code",
   "execution_count": 22,
   "metadata": {},
   "outputs": [
    {
     "data": {
      "text/plain": [
       "Text(0.5, 1, 'Log10 of Percent of Families Below Poverty Line vs. Log10 of Number of Violations \\n (positive relationship skewed by outliers)')"
      ]
     },
     "execution_count": 22,
     "metadata": {},
     "output_type": "execute_result"
    },
    {
     "data": {
      "image/png": "[encoded data removed]",
      "text/plain": [
       "<Figure size 360x360 with 1 Axes>"
      ]
     },
     "metadata": {
      "needs_background": "light"
     },
     "output_type": "display_data"
    }
   ],
   "source": [
    "sns.lmplot(x='percent_family_poverty10', y='num_violations10', data=df, fit_reg=True)\n",
    "plt.title('Log10 of Percent of Families Below Poverty Line vs. Log10 of Number of Violations \\n (positive relationship skewed by outliers)')"
   ]
  },
  {
   "cell_type": "code",
   "execution_count": 23,
   "metadata": {},
   "outputs": [
    {
     "data": {
      "text/plain": [
       "Text(0.5, 1, 'Log10 of Percent of Non-White Population vs. Log10 of Number of Violations \\n (positive relationship skewed by outlers)')"
      ]
     },
     "execution_count": 23,
     "metadata": {},
     "output_type": "execute_result"
    },
    {
     "data": {
      "image/png": "[encoded data removed]",
      "text/plain": [
       "<Figure size 360x360 with 1 Axes>"
      ]
     },
     "metadata": {
      "needs_background": "light"
     },
     "output_type": "display_data"
    }
   ],
   "source": [
    "sns.lmplot(x='percent_nonwhite10', y='num_violations10', data=df, fit_reg=True)\n",
    "plt.title('Log10 of Percent of Non-White Population vs. Log10 of Number of Violations \\n (positive relationship skewed by outlers)')"
   ]
  },
  {
   "cell_type": "code",
   "execution_count": 24,
   "metadata": {},
   "outputs": [
    {
     "data": {
      "text/html": [
       "<div>\n",
       "<style scoped>\n",
       "    .dataframe tbody tr th:only-of-type {\n",
       "        vertical-align: middle;\n",
       "    }\n",
       "\n",
       "    .dataframe tbody tr th {\n",
       "        vertical-align: top;\n",
       "    }\n",
       "\n",
       "    .dataframe thead th {\n",
       "        text-align: right;\n",
       "    }\n",
       "</style>\n",
       "<table border=\"1\" class=\"dataframe\">\n",
       "  <thead>\n",
       "    <tr style=\"text-align: right;\">\n",
       "      <th></th>\n",
       "      <th>income</th>\n",
       "      <th>percent_family_poverty</th>\n",
       "      <th>percent_nonwhite</th>\n",
       "      <th>num_violations</th>\n",
       "      <th>income10</th>\n",
       "      <th>percent_family_poverty10</th>\n",
       "      <th>percent_nonwhite10</th>\n",
       "      <th>num_violations10</th>\n",
       "    </tr>\n",
       "  </thead>\n",
       "  <tbody>\n",
       "    <tr>\n",
       "      <th>income</th>\n",
       "      <td>1.000000</td>\n",
       "      <td>-0.612539</td>\n",
       "      <td>-0.438987</td>\n",
       "      <td>0.026262</td>\n",
       "      <td>0.988230</td>\n",
       "      <td>-0.680136</td>\n",
       "      <td>-0.461802</td>\n",
       "      <td>0.217930</td>\n",
       "    </tr>\n",
       "    <tr>\n",
       "      <th>percent_family_poverty</th>\n",
       "      <td>-0.612539</td>\n",
       "      <td>1.000000</td>\n",
       "      <td>0.638936</td>\n",
       "      <td>0.218597</td>\n",
       "      <td>-0.686295</td>\n",
       "      <td>0.901546</td>\n",
       "      <td>0.540391</td>\n",
       "      <td>0.160210</td>\n",
       "    </tr>\n",
       "    <tr>\n",
       "      <th>percent_nonwhite</th>\n",
       "      <td>-0.438987</td>\n",
       "      <td>0.638936</td>\n",
       "      <td>1.000000</td>\n",
       "      <td>0.297442</td>\n",
       "      <td>-0.488648</td>\n",
       "      <td>0.488267</td>\n",
       "      <td>0.956961</td>\n",
       "      <td>0.283414</td>\n",
       "    </tr>\n",
       "    <tr>\n",
       "      <th>num_violations</th>\n",
       "      <td>0.026262</td>\n",
       "      <td>0.218597</td>\n",
       "      <td>0.297442</td>\n",
       "      <td>1.000000</td>\n",
       "      <td>0.053597</td>\n",
       "      <td>0.244226</td>\n",
       "      <td>0.348612</td>\n",
       "      <td>0.781011</td>\n",
       "    </tr>\n",
       "    <tr>\n",
       "      <th>income10</th>\n",
       "      <td>0.988230</td>\n",
       "      <td>-0.686295</td>\n",
       "      <td>-0.488648</td>\n",
       "      <td>0.053597</td>\n",
       "      <td>1.000000</td>\n",
       "      <td>-0.731824</td>\n",
       "      <td>-0.482441</td>\n",
       "      <td>0.219550</td>\n",
       "    </tr>\n",
       "    <tr>\n",
       "      <th>percent_family_poverty10</th>\n",
       "      <td>-0.680136</td>\n",
       "      <td>0.901546</td>\n",
       "      <td>0.488267</td>\n",
       "      <td>0.244226</td>\n",
       "      <td>-0.731824</td>\n",
       "      <td>1.000000</td>\n",
       "      <td>0.423926</td>\n",
       "      <td>0.102091</td>\n",
       "    </tr>\n",
       "    <tr>\n",
       "      <th>percent_nonwhite10</th>\n",
       "      <td>-0.461802</td>\n",
       "      <td>0.540391</td>\n",
       "      <td>0.956961</td>\n",
       "      <td>0.348612</td>\n",
       "      <td>-0.482441</td>\n",
       "      <td>0.423926</td>\n",
       "      <td>1.000000</td>\n",
       "      <td>0.299365</td>\n",
       "    </tr>\n",
       "    <tr>\n",
       "      <th>num_violations10</th>\n",
       "      <td>0.217930</td>\n",
       "      <td>0.160210</td>\n",
       "      <td>0.283414</td>\n",
       "      <td>0.781011</td>\n",
       "      <td>0.219550</td>\n",
       "      <td>0.102091</td>\n",
       "      <td>0.299365</td>\n",
       "      <td>1.000000</td>\n",
       "    </tr>\n",
       "  </tbody>\n",
       "</table>\n",
       "</div>"
      ],
      "text/plain": [
       "                            income  percent_family_poverty  percent_nonwhite  \\\n",
       "income                    1.000000               -0.612539         -0.438987   \n",
       "percent_family_poverty   -0.612539                1.000000          0.638936   \n",
       "percent_nonwhite         -0.438987                0.638936          1.000000   \n",
       "num_violations            0.026262                0.218597          0.297442   \n",
       "income10                  0.988230               -0.686295         -0.488648   \n",
       "percent_family_poverty10 -0.680136                0.901546          0.488267   \n",
       "percent_nonwhite10       -0.461802                0.540391          0.956961   \n",
       "num_violations10          0.217930                0.160210          0.283414   \n",
       "\n",
       "                          num_violations  income10  percent_family_poverty10  \\\n",
       "income                          0.026262  0.988230                 -0.680136   \n",
       "percent_family_poverty          0.218597 -0.686295                  0.901546   \n",
       "percent_nonwhite                0.297442 -0.488648                  0.488267   \n",
       "num_violations                  1.000000  0.053597                  0.244226   \n",
       "income10                        0.053597  1.000000                 -0.731824   \n",
       "percent_family_poverty10        0.244226 -0.731824                  1.000000   \n",
       "percent_nonwhite10              0.348612 -0.482441                  0.423926   \n",
       "num_violations10                0.781011  0.219550                  0.102091   \n",
       "\n",
       "                          percent_nonwhite10  num_violations10  \n",
       "income                             -0.461802          0.217930  \n",
       "percent_family_poverty              0.540391          0.160210  \n",
       "percent_nonwhite                    0.956961          0.283414  \n",
       "num_violations                      0.348612          0.781011  \n",
       "income10                           -0.482441          0.219550  \n",
       "percent_family_poverty10            0.423926          0.102091  \n",
       "percent_nonwhite10                  1.000000          0.299365  \n",
       "num_violations10                    0.299365          1.000000  "
      ]
     },
     "execution_count": 24,
     "metadata": {},
     "output_type": "execute_result"
    }
   ],
   "source": [
    "df.corr()"
   ]
  },
  {
   "cell_type": "markdown",
   "metadata": {},
   "source": [
    "From the above cell, we can see that income, percentage of families under the poverty linie, and the percentage of non-white citizens all show a weak positive relationship with the number of restaurant violations. After checking the correlation coefficient, I then used <code>patsy.dmatrices</code> to perform an OLS regression to make a linear model of these data."
   ]
  },
  {
   "cell_type": "code",
   "execution_count": 25,
   "metadata": {},
   "outputs": [
    {
     "name": "stdout",
     "output_type": "stream",
     "text": [
      "                            OLS Regression Results                            \n",
      "==============================================================================\n",
      "Dep. Variable:       num_violations10   R-squared:                       0.373\n",
      "Model:                            OLS   Adj. R-squared:                  0.316\n",
      "Method:                 Least Squares   F-statistic:                     6.549\n",
      "Date:                Wed, 10 Jun 2020   Prob (F-statistic):            0.00135\n",
      "Time:                        22:34:11   Log-Likelihood:                -35.066\n",
      "No. Observations:                  37   AIC:                             78.13\n",
      "Df Residuals:                      33   BIC:                             84.58\n",
      "Df Model:                           3                                         \n",
      "Covariance Type:            nonrobust                                         \n",
      "============================================================================================\n",
      "                               coef    std err          t      P>|t|      [0.025      0.975]\n",
      "--------------------------------------------------------------------------------------------\n",
      "Intercept                  -23.5526      6.483     -3.633      0.001     -36.742     -10.363\n",
      "income10                     5.0203      1.301      3.859      0.001       2.373       7.667\n",
      "percent_family_poverty10     1.4370      0.595      2.416      0.021       0.227       2.647\n",
      "percent_nonwhite10           1.9645      0.645      3.047      0.005       0.653       3.276\n",
      "==============================================================================\n",
      "Omnibus:                       19.117   Durbin-Watson:                   1.641\n",
      "Prob(Omnibus):                  0.000   Jarque-Bera (JB):               28.363\n",
      "Skew:                          -1.399   Prob(JB):                     6.94e-07\n",
      "Kurtosis:                       6.251   Cond. No.                         298.\n",
      "==============================================================================\n",
      "\n",
      "Warnings:\n",
      "[1] Standard Errors assume that the covariance matrix of the errors is correctly specified.\n"
     ]
    }
   ],
   "source": [
    "outcome, predictors = patsy.dmatrices('num_violations10 ~ income10 + percent_family_poverty10 + percent_nonwhite10', df)\n",
    "mod = sm.OLS(outcome, predictors)\n",
    "res = mod.fit()\n",
    "print(res.summary())"
   ]
  },
  {
   "cell_type": "markdown",
   "metadata": {},
   "source": [
    "After observing the OLS regression results, we can see that the R-squared value is 0.373, meaning that 37.3% of the variability in the number of health code violations can be explained through the per capita income of a zipcode, the percent of families below the poverty line, and the percentage of non-white people in that zip code.\n",
    "\n",
    "We can also conclude that the socioeconomic location of a restaurant can predict the number of healthcode violations that a restaurant in those locations may receive. This is because the p-value for all three variables is less than 0.05 (which I determined in my hypothesis that any p-value less than 0.05 is statistically significant), therefore I can reject the null hypothesis."
   ]
  },
  {
   "cell_type": "markdown",
   "metadata": {},
   "source": [
    "# Ethics & Privacy"
   ]
  },
  {
   "cell_type": "markdown",
   "metadata": {},
   "source": [
    "Because these data are all public domain, and are not referring to human subjects, informed consent was not required to collect these data. I decided to include the full zip code of the violations because these data do not refer to human subjects. It would also be nearly impossible to perform my analysis with the Safe Harbor Method masking the last 3 digits of the zip code because it would jumble all of the zip codes together. However, since privacy is an issue, I intentionally dropped all of the columns that could potentially lead to a privacy breach which luckily were not needed for my analysis.\n",
    "\n",
    "I made sure to only use the columns <code>hsisid</code> and <code>violationtype</code> from the violations csv file, <code>hsisid</code> and <code>postalcode</code> from the restaurants csv file, and <code>zip</code>, <code>per_capita_income_dollars</code>, <code>percent_damilies_below_poverty_line</code>, and <code>percent_nonwhite</code> from the zipcodes csv file because I found the other columns irrelevant to my analysis. It does not include any other information about who performed the violation, restaurant names, or telephone numbers associated with those restaurants.\n",
    "\n",
    "Some possible unintended consequences of this project could be that people could see the possibility of contracting foodborne illnesses (FBIs) due to the poorer locations showing an increase in healthcode violations. This may result in less business for the zip codes showing an increase in healthcode violations. Another unintended consequence that should be addressed could be the possibility of people thinking that in zip codes with a greater population of non-white residents have a greater chance of healthcode violations, and therefore avoiding more colored areas on purpose. "
   ]
  },
  {
   "cell_type": "markdown",
   "metadata": {},
   "source": [
    "# Conclusion & Discussion"
   ]
  },
  {
   "cell_type": "markdown",
   "metadata": {},
   "source": [
    "Ultimately, after the analysis performed, I believe that I can reject the null hypothesis. I predicted that some socioeconomic characteristics of zip codes in Wake County, NC contribute to the number of health code violations that a restaurant in said zip codes recieve. Both graphs <code>percent_family_poverty</code> vs <code>num_violations</code> and <code>percent_nonwhite</code> vs <code>num_violations</code> support the possibility that the more poor an area is, the greater the likelihood of a health code violation due to the lack of financial resources available to allocate to health regulations. I used an alpha value of 0.05, and after the OLS linear model all three <code>P>|t|</code> values were less than my original alpha, thus showing that there are statistically significant relationships between the three varaibles and the number of health code violations. Thus, I can confidently say that I can reject my null hypothesis.\n",
    "\n",
    "One of the more interesting finds, however, is how <code>income</code> vs <code>num_violations</code> has a weak positive relationship. I would assume that the less money per capita per zip code would contribute to more health code violations. However, after switching my theory, it makes more sense. This could be possible because the richer zip codes could have more restaurants. The more restaurants, the more likely a health code violation could occur. This could also mean that the poorer areas in Wake County, NC have a smaller amount of restaurants.\n",
    "\n",
    "Some limitations of this project include that the datasets are extremely confined to Wake County, NC which likely will not apply across the entire United States or the world. Ideally, I would have datasets of the entire United States. The socioeconomic characteristics of Wake County probably do not reflect the same socioeconomic characteristics of the United States as a whole. Another limitation could be, as I said in my <strong>Background and Prior Work</strong> section, the number of variables I have analyzed. Since my R-squared value was only .373, I am clearly not getting the entire picture. One variable that could be important to analyze could be whether a restaurant is in a chain or not, for restaurants in a chain could possibly have stricter health codes than those that are not.\n",
    "\n",
    "Finally, I want to acknowledge the impact that this research could have. Besides the possible unintended consequences outlined above, this could lead to a discussion on the intentional or unintentional systematic racism in this country, or at least Wake County, NC. Since colored people are statistically more likely to be poorer and get fewer opportunities than the average white person, it is possible that this research could uncover the class and socioeconomic issues in the United States. Since the murder of George Floyd, the entire country is in a state of unrest and this research could add fuel to the fire."
   ]
  }
 ],
 "metadata": {
  "kernelspec": {
   "display_name": "Python 3 (ipykernel)",
   "language": "python",
   "name": "python3"
  },
  "language_info": {
   "codemirror_mode": {
    "name": "ipython",
    "version": 3
   },
   "file_extension": ".py",
   "mimetype": "text/x-python",
   "name": "python",
   "nbconvert_exporter": "python",
   "pygments_lexer": "ipython3",
   "version": "3.10.5"
  }
 },
 "nbformat": 4,
 "nbformat_minor": 2
}
